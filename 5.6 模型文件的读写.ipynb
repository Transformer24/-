{
 "cells": [
  {
   "cell_type": "markdown",
   "id": "d9f65645",
   "metadata": {},
   "source": [
    "#### 张量的保存和加载"
   ]
  },
  {
   "cell_type": "code",
   "execution_count": null,
   "id": "6919b4bd",
   "metadata": {},
   "outputs": [],
   "source": [
    "import torch\n",
    "\n",
    "a = torch.rand(10)\n",
    "print(a)"
   ]
  },
  {
   "cell_type": "code",
   "execution_count": null,
   "id": "0f885f6a",
   "metadata": {},
   "outputs": [],
   "source": [
    "import os\n",
    "os.makedirs(\"model\", exist_ok=True)\n",
    "torch.save(a, 'model/tensor-a')"
   ]
  },
  {
   "cell_type": "code",
   "execution_count": null,
   "id": "4581be4c",
   "metadata": {},
   "outputs": [],
   "source": [
    "torch.load('model/tensor-a')"
   ]
  },
  {
   "cell_type": "code",
   "execution_count": null,
   "id": "be993317",
   "metadata": {},
   "outputs": [],
   "source": [
    "a = torch.rand(10)\n",
    "b = torch.rand(10)\n",
    "c = torch.rand(10)\n",
    "torch.save([a,b,c], 'model/tensor-abc')"
   ]
  },
  {
   "cell_type": "code",
   "execution_count": null,
   "id": "0747fb22",
   "metadata": {},
   "outputs": [],
   "source": [
    "torch.load('model/tensor-abc')"
   ]
  },
  {
   "cell_type": "code",
   "execution_count": null,
   "id": "db5894c0",
   "metadata": {},
   "outputs": [],
   "source": [
    "a = torch.rand(10)\n",
    "b = torch.rand(10)\n",
    "c = torch.rand(10)\n",
    "tensor_dict={'a':a, 'b':b, 'c':c}\n",
    "torch.save(tensor_dict, 'model/tensor_dict')"
   ]
  },
  {
   "cell_type": "code",
   "execution_count": null,
   "id": "2396a27f",
   "metadata": {},
   "outputs": [],
   "source": [
    "torch.load('model/tensor_dict')"
   ]
  },
  {
   "cell_type": "markdown",
   "id": "00a970dc",
   "metadata": {},
   "source": [
    "#### 模型参数的保存和加载"
   ]
  },
  {
   "cell_type": "code",
   "execution_count": null,
   "id": "129beb73",
   "metadata": {},
   "outputs": [],
   "source": [
    "import torch\n",
    "import torch.nn as nn\n",
    "import torch.optim as optim\n",
    "from torchvision import datasets, transforms\n",
    "\n",
    "# 定义 MLP 网络\n",
    "class MLP(nn.Module):\n",
    "    def __init__(self, input_size, hidden_size, num_classes):\n",
    "        super(MLP, self).__init__()\n",
    "        self.fc1 = nn.Linear(input_size, hidden_size)\n",
    "        self.relu = nn.ReLU()\n",
    "        self.fc2 = nn.Linear(hidden_size, hidden_size)\n",
    "        self.fc3 = nn.Linear(hidden_size, num_classes)\n",
    "    \n",
    "    def forward(self, x):\n",
    "        out = self.fc1(x)\n",
    "        out = self.relu(out)\n",
    "        out = self.fc2(out)\n",
    "        out = self.relu(out)\n",
    "        out = self.fc3(out)\n",
    "        return out\n",
    "\n",
    "# 定义超参数\n",
    "input_size = 28 * 28  # 输入大小\n",
    "hidden_size = 512  # 隐藏层大小\n",
    "num_classes = 10  # 输出大小（类别数）"
   ]
  },
  {
   "cell_type": "code",
   "execution_count": null,
   "id": "e9b684b2",
   "metadata": {},
   "outputs": [],
   "source": [
    "# 实例化 MLP 网络\n",
    "model = MLP(input_size, hidden_size, num_classes)\n",
    "X = torch.randn(size=(2, 28*28))"
   ]
  },
  {
   "cell_type": "code",
   "execution_count": null,
   "id": "9217bad2",
   "metadata": {},
   "outputs": [],
   "source": [
    "torch.save(model.state_dict(), 'model/mlp.params')"
   ]
  },
  {
   "cell_type": "code",
   "execution_count": null,
   "id": "5eb0cc90",
   "metadata": {},
   "outputs": [],
   "source": [
    "params = torch.load('model/mlp.params')\n",
    "model_load = MLP(input_size, hidden_size, num_classes)\n",
    "model_load.load_state_dict(params)"
   ]
  },
  {
   "cell_type": "code",
   "execution_count": 12,
   "id": "c2fa0ffc",
   "metadata": {},
   "outputs": [
    {
     "name": "stdout",
     "output_type": "stream",
     "text": [
      "tensor([[-0.0107,  0.0414,  0.0170, -0.0564,  0.1039, -0.0627, -0.0256,  0.1142,\n",
      "         -0.1233,  0.1592],\n",
      "        [-0.0226, -0.0832, -0.0352, -0.1938,  0.0435, -0.0203,  0.0838,  0.0771,\n",
      "         -0.2488,  0.2506]], grad_fn=<AddmmBackward0>)\n"
     ]
    }
   ],
   "source": [
    "output1 = model(X)\n",
    "print(output1)"
   ]
  },
  {
   "cell_type": "code",
   "execution_count": 13,
   "id": "36a469e7",
   "metadata": {},
   "outputs": [
    {
     "name": "stdout",
     "output_type": "stream",
     "text": [
      "tensor([[-0.0107,  0.0414,  0.0170, -0.0564,  0.1039, -0.0627, -0.0256,  0.1142,\n",
      "         -0.1233,  0.1592],\n",
      "        [-0.0226, -0.0832, -0.0352, -0.1938,  0.0435, -0.0203,  0.0838,  0.0771,\n",
      "         -0.2488,  0.2506]], grad_fn=<AddmmBackward0>)\n"
     ]
    }
   ],
   "source": [
    "output2 = model_load(X)\n",
    "print(output2)"
   ]
  }
 ],
 "metadata": {
  "kernelspec": {
   "display_name": "Python 3 (ipykernel)",
   "language": "python",
   "name": "python3"
  },
  "language_info": {
   "codemirror_mode": {
    "name": "ipython",
    "version": 3
   },
   "file_extension": ".py",
   "mimetype": "text/x-python",
   "name": "python",
   "nbconvert_exporter": "python",
   "pygments_lexer": "ipython3",
   "version": "3.11.4"
  }
 },
 "nbformat": 4,
 "nbformat_minor": 5
}
