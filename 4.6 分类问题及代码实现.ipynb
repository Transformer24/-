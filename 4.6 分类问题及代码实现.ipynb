{
 "cells": [
  {
   "cell_type": "code",
   "execution_count": 1,
   "id": "b3eca3db",
   "metadata": {},
   "outputs": [],
   "source": [
    "import torch\n",
    "import torchvision\n",
    "\n",
    "# ToTensor() 转换将数据集中的图像数据转换为 PyTorch 张量，这将使得我们可以直接将图像作为模型输入。\n",
    "transformation = torchvision.transforms.ToTensor()"
   ]
  },
  {
   "cell_type": "code",
   "execution_count": 2,
   "id": "c6f7c971",
   "metadata": {},
   "outputs": [],
   "source": [
    "train_dataset = torchvision.datasets.MNIST(root='./mnist/data', train=True, download=True, transform=transformation)\n",
    "test_dataset = torchvision.datasets.MNIST(root='./mnist/data', train=False, download=True, transform=transformation)"
   ]
  },
  {
   "cell_type": "code",
   "execution_count": 3,
   "id": "b83f78c3",
   "metadata": {},
   "outputs": [],
   "source": [
    "batch_size = 64\n",
    "# 将数据载入数据加载器中\n",
    "train_dataloader = torch.utils.data.DataLoader(train_dataset, batch_size=batch_size, shuffle=True)\n",
    "test_dataloader = torch.utils.data.DataLoader(test_dataset, batch_size=batch_size, shuffle=False)"
   ]
  },
  {
   "cell_type": "code",
   "execution_count": 4,
   "id": "47c51239",
   "metadata": {},
   "outputs": [
    {
     "name": "stdout",
     "output_type": "stream",
     "text": [
      "torch.Size([64, 1, 28, 28]) torch.Size([64])\n",
      "tensor(4)\n"
     ]
    },
    {
     "data": {
      "image/png": "[encoded data removed]",
      "text/plain": [
       "<Figure size 432x288 with 1 Axes>"
      ]
     },
     "metadata": {
      "needs_background": "light"
     },
     "output_type": "display_data"
    }
   ],
   "source": [
    "import matplotlib.pyplot as plt\n",
    "\n",
    "# 检查输入数据的正确性\n",
    "for images, labels in train_dataloader:\n",
    "    # 打印出 images 和 labels 的形状\n",
    "    print(images.shape, labels.shape)\n",
    "    print(labels[0])# 打印出了 labels 中的第一个元素。\n",
    "    plt.imshow(images[0][0], cmap='gray') # 显示该图像\n",
    "    plt.show()\n",
    "    break"
   ]
  },
  {
   "cell_type": "code",
   "execution_count": 5,
   "id": "951dbe95",
   "metadata": {},
   "outputs": [],
   "source": [
    "import torch.nn as nn\n",
    "\n",
    "# 定义一个名为 Model 的类，它继承自 nn.Module 类\n",
    "class Model(nn.Module):\n",
    "    # 定义 __init__ 函数，用于初始化模型的参数\n",
    "    def __init__(self, input_size, output_size):\n",
    "        # 调用 nn.Module 的构造函数\n",
    "        super().__init__()\n",
    "        # 定义一个线性层，其输入大小为 input_size，输出大小为 output_size\n",
    "        self.linear = nn.Linear(input_size, output_size)\n",
    "    \n",
    "    # 定义 forward 函数，用于前向传播\n",
    "    def forward(self, x):\n",
    "        # 计算线性层的输出，即模型的 logit 值\n",
    "        logits = self.linear(x)\n",
    "        # 返回模型的 logit 值\n",
    "        return logits\n",
    "\n",
    "# 定义超参数\n",
    "input_size = 28*28\n",
    "output_size = 10\n",
    "model = Model(input_size, output_size)"
   ]
  },
  {
   "cell_type": "code",
   "execution_count": 6,
   "id": "bc83c7f2",
   "metadata": {},
   "outputs": [],
   "source": [
    "import torch.nn as nn\n",
    "\n",
    "# 定义交叉熵损失函数\n",
    "criterion = nn.CrossEntropyLoss()\n",
    "\n",
    "# 定义随机梯度下降优化器，其中 model.parameters() 获取模型的所有可学习参数\n",
    "# lr 表示学习率，控制优化器在更新参数时的步长大小\n",
    "optimizer = torch.optim.SGD(model.parameters(), lr=0.01)"
   ]
  },
  {
   "cell_type": "code",
   "execution_count": 7,
   "id": "6d32d4a3",
   "metadata": {},
   "outputs": [],
   "source": [
    "# 定义 evaluate 函数，用于评估给定模型在指定数据集上的准确率\n",
    "def evaluate(model, data_loader):\n",
    "    # 将模型设为评估模式，即关闭 dropout 和 batch normalization 等随机性操作\n",
    "    model.eval()\n",
    "    # 定义变量用于记录分类正确的样本数量和总样本数量\n",
    "    correct = 0\n",
    "    total = 0\n",
    "    # 在上下文管理器中使用 torch.no_grad()，以避免在评估模型时计算梯度和更新模型参数\n",
    "    with torch.no_grad():\n",
    "        # 遍历数据加载器中的每个 batch\n",
    "        for x, y in data_loader:\n",
    "            # 将输入数据 x 变形为二维张量，第一维是 batch_size，第二维是 input_size\n",
    "            x = x.view(-1, input_size)\n",
    "            # 计算模型的输出，即 logits\n",
    "            logits = model(x)\n",
    "            # 从 logits 中选取最大值作为预测值，并返回预测值的索引\n",
    "            _, predicted = torch.max(logits.data, 1)\n",
    "            # 更新总样本数量\n",
    "            total += y.size(0)\n",
    "            # 更新分类正确的样本数量\n",
    "            correct += (predicted == y).sum().item()\n",
    "    # 计算准确率，并返回\n",
    "    return correct / total"
   ]
  },
  {
   "cell_type": "code",
   "execution_count": 8,
   "id": "1c7d6bb2",
   "metadata": {},
   "outputs": [
    {
     "name": "stdout",
     "output_type": "stream",
     "text": [
      "Epoch 10: test accuracy = 0.91\n"
     ]
    }
   ],
   "source": [
    "# 对神经网络进行多次训练迭代\n",
    "for epoch in range(10):\n",
    "    # 遍历训练集数据加载器中的每个 batch\n",
    "    for images, labels in train_dataloader:\n",
    "        # 将图像和标签转换成张量\n",
    "        images = images.view(-1, 28*28)\n",
    "        labels = labels.long()\n",
    "        \n",
    "        # 前向传播，计算模型的输出和损失\n",
    "        outputs = model(images)\n",
    "        loss = criterion(outputs, labels)\n",
    "        \n",
    "        # 反向传播和优化，即计算梯度并更新模型参数\n",
    "        optimizer.zero_grad()\n",
    "        loss.backward()\n",
    "        optimizer.step()\n",
    "        \n",
    "    # 在测试集上评估模型的准确率，并输出\n",
    "    accuracy = evaluate(model, test_dataloader)\n",
    "    print(f'Epoch {epoch+1}: test accuracy = {accuracy:.2f}')"
   ]
  }
 ],
 "metadata": {
  "kernelspec": {
   "display_name": "Python 3 (ipykernel)",
   "language": "python",
   "name": "python3"
  },
  "language_info": {
   "codemirror_mode": {
    "name": "ipython",
    "version": 3
   },
   "file_extension": ".py",
   "mimetype": "text/x-python",
   "name": "python",
   "nbconvert_exporter": "python",
   "pygments_lexer": "ipython3",
   "version": "3.11.4"
  }
 },
 "nbformat": 4,
 "nbformat_minor": 5
}
