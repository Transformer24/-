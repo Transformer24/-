{
 "cells": [
  {
   "cell_type": "code",
   "execution_count": 1,
   "id": "d145af83",
   "metadata": {},
   "outputs": [],
   "source": [
    "import torch\n",
    "import torch.nn as nn\n",
    "\n",
    "class Encoder(nn.Module):\n",
    "    def __init__(self, input_size, hidden_size, num_layers):\n",
    "        super(Encoder, self).__init__()\n",
    "        self.rnn = nn.RNN(input_size, hidden_size, num_layers) # RNN模型\n",
    "    \n",
    "    def forward(self, x, hidden):\n",
    "        x, hidden = self.rnn(x, hidden)\n",
    "        return hidden  # 只需要输出hidden"
   ]
  },
  {
   "cell_type": "code",
   "execution_count": 2,
   "id": "637cb9dc",
   "metadata": {},
   "outputs": [],
   "source": [
    "class Decoder(nn.Module):\n",
    "    def __init__(self, output_size, hidden_size, num_layers):\n",
    "        super(Decoder, self).__init__()\n",
    "        self.rnn = nn.RNN(output_size, hidden_size, num_layers)  # RNN模型\n",
    "        self.linear = nn.Linear(hidden_size, output_size)\n",
    "    \n",
    "    def forward(self, x, hidden):\n",
    "        x, state = self.rnn(x, hidden)\n",
    "        x = self.linear(x)\n",
    "        return x, state"
   ]
  },
  {
   "cell_type": "code",
   "execution_count": 3,
   "id": "ffee20e4",
   "metadata": {},
   "outputs": [],
   "source": [
    "class Seq2Seq(nn.Module):\n",
    " \n",
    "    def __init__(self, encoder, decoder):\n",
    "        super().__init__()\n",
    "        self.encoder = encoder\n",
    "        self.decoder = decoder\n",
    " \n",
    "    def forward(self, encoder_inputs, decoder_inputs):\n",
    "        return self.decoder(decoder_inputs, self.encoder(encoder_inputs))"
   ]
  },
  {
   "cell_type": "code",
   "execution_count": null,
   "id": "70a56f24",
   "metadata": {},
   "outputs": [],
   "source": [
    "# 数据集生成\n",
    "soundmark = ['ei',  'bi:',  'si:',  'di:',  'i:',  'ef',  'dʒi:',  'eit∫',  'ai', 'dʒei', 'kei', 'el', 'em', 'en', 'əu', 'pi:', 'kju:',\n",
    "        'ɑ:', 'es', 'ti:', 'ju:', 'vi:', 'd∧blju:', 'eks', 'wai', 'zi:']\n",
    "\n",
    "alphabet = ['a','b','c','d','e','f','g','h','i','j','k','l','m','n','o','p','q',\n",
    "         'r','s','t','u','v','w','x','y','z']"
   ]
  },
  {
   "cell_type": "code",
   "execution_count": null,
   "id": "544bc183",
   "metadata": {},
   "outputs": [],
   "source": [
    "import random\n",
    "\n",
    "t = 10000 #总条数\n",
    "r = 0.9   #扰动项\n",
    "seq_len = 6\n",
    "src_tokens, tgt_tokens = [],[] #原始序列、目标序列列表"
   ]
  },
  {
   "cell_type": "code",
   "execution_count": null,
   "id": "d16e6caa",
   "metadata": {},
   "outputs": [],
   "source": [
    "for i in range(t):\n",
    "    src, tgt = [],[]\n",
    "    for j in range(seq_len):\n",
    "        ind = random.randint(0,25)\n",
    "        src.append(soundmark[ind])\n",
    "        if random.random() < r:\n",
    "            tgt.append(alphabet[ind])\n",
    "        else:\n",
    "            tgt.append(alphabet[random.randint(0,25)])\n",
    "    src_tokens.append(src)\n",
    "    tgt_tokens.append(tgt)"
   ]
  },
  {
   "cell_type": "code",
   "execution_count": 4,
   "id": "f5911a8c",
   "metadata": {},
   "outputs": [
    {
     "data": {
      "text/plain": [
       "([['ei', 'si:', 'wai', 'ei', 'el', 'ef'],\n",
       "  ['em', 'ti:', 'ai', 'ai', 'ju:', 'ti:']],\n",
       " [['a', 'c', 'y', 'a', 'l', 'f'], ['m', 't', 'v', 'i', 'u', 't']])"
      ]
     },
     "execution_count": 4,
     "metadata": {},
     "output_type": "execute_result"
    }
   ],
   "source": [
    "src_tokens[:2], tgt_tokens[:2]"
   ]
  },
  {
   "cell_type": "code",
   "execution_count": 5,
   "id": "7380696a",
   "metadata": {},
   "outputs": [],
   "source": [
    "from collections import Counter                                      #计数类\n",
    "\n",
    "flatten = lambda l: [item for sublist in l for item in sublist]      #展平数组\n",
    "\n",
    "# 构建词表\n",
    "class Vocab:\n",
    "    def __init__(self, tokens):\n",
    "        self.tokens = tokens  # 传入的tokens是二维列表\n",
    "        self.token2index = {'<bos>': 0, '<eos>': 1}  # 先存好特殊词元\n",
    "        # 将词元按词频排序后生成列表\n",
    "        self.token2index.update({\n",
    "            token: index + 2\n",
    "            for index, (token, freq) in enumerate(\n",
    "                sorted(Counter(flatten(self.tokens)).items(), key=lambda x: x[1], reverse=True))\n",
    "        }) \n",
    "        #构建id到词元字典\n",
    "        self.index2token = {index: token for token, index in self.token2index.items()}\n",
    " \n",
    "    def __getitem__(self, query):\n",
    "        # 单一索引\n",
    "        if isinstance(query, (str, int)):\n",
    "            if isinstance(query, str):\n",
    "                return self.token2index.get(query, 0)\n",
    "            elif isinstance(query, (int)):\n",
    "                return self.index2token.get(query, '<unk>')\n",
    "        # 数组索引\n",
    "        elif isinstance(query, (list, tuple)):\n",
    "            return [self.__getitem__(item) for item in query]\n",
    " \n",
    "    def __len__(self):\n",
    "        return len(self.index2token)"
   ]
  },
  {
   "cell_type": "code",
   "execution_count": 6,
   "id": "427fe85c",
   "metadata": {},
   "outputs": [],
   "source": [
    "from torch.utils.data import DataLoader, TensorDataset\n",
    "\n",
    "#实例化source和target词表\n",
    "src_vocab, tgt_vocab = Vocab(src_tokens), Vocab(tgt_tokens)\n",
    "\n",
    "#增加结尾标识<eos>\n",
    "src_data = torch.tensor([src_vocab[line + ['<eos>']] for line in src_tokens])\n",
    "tgt_data = torch.tensor([tgt_vocab[line + ['<eos>']] for line in tgt_tokens])\n",
    "\n",
    "# 训练集和测试集比例8比2，batch_size = 16\n",
    "train_size = int(len(src_data) * 0.8)\n",
    "test_size = len(src_data) - train_size\n",
    "batch_size = 16\n",
    "\n",
    "train_loader = DataLoader(TensorDataset(src_data[:train_size], tgt_data[:train_size]), batch_size=batch_size)\n",
    "test_loader = DataLoader(TensorDataset(src_data[-test_size:], tgt_data[-test_size:]), batch_size=1)"
   ]
  },
  {
   "cell_type": "code",
   "execution_count": 7,
   "id": "662f5eda",
   "metadata": {},
   "outputs": [],
   "source": [
    "# 定义编码器\n",
    "class Encoder(nn.Module):\n",
    " \n",
    "    def __init__(self, vocab_size, ebd_size, hidden_size, num_layers):\n",
    "        super().__init__()\n",
    "        self.embedding = nn.Embedding(vocab_size, ebd_size)  # 将token表示为embedding\n",
    "        self.rnn = nn.RNN(ebd_size, hidden_size, num_layers=num_layers)\n",
    " \n",
    "    def forward(self, encoder_inputs):\n",
    "        # encoder_inputs从(batch_size, seq_len)变成(batch_size, seq_len, emb_size)再调整为(seq_len, batch_size, emb_size)\n",
    "        encoder_inputs = self.embedding(encoder_inputs).permute(1, 0, 2)\n",
    "        output, hidden = self.rnn(encoder_inputs)\n",
    "        # hidden 的形状为 (num_layers, batch_size, hidden_size)\n",
    "        # 最后时刻的最后一个隐层的输出的隐状态即为上下文向量\n",
    "        return hidden\n",
    "\n",
    "# 定义解码器\n",
    "class Decoder(nn.Module):\n",
    " \n",
    "    def __init__(self, vocab_size, ebd_size, hidden_size, num_layers):\n",
    "        super().__init__()\n",
    "        self.embedding = nn.Embedding(vocab_size, ebd_size)\n",
    "        # 拼接维度ebd_size + hidden_size\n",
    "        self.rnn = nn.RNN(ebd_size + hidden_size, hidden_size, num_layers=num_layers)\n",
    "        self.linear = nn.Linear(hidden_size, vocab_size)\n",
    " \n",
    "    def forward(self, decoder_inputs, encoder_states):\n",
    "        '''\n",
    "            decoder_inputs 为目标序列偏移一位的结果, 由初始形状: (batch_size, seq_len)变为(batch_size, seq_len)\n",
    "            再调整为(batch_size, seq_len, emb_size) -> (seq_len, batch_size, emb_size)\n",
    "        '''\n",
    "        decoder_inputs = self.embedding(decoder_inputs).permute(1, 0, 2)\n",
    "        context = encoder_states[-1] # 上下文向量取编码器的最后一个隐层的输出\n",
    "        # context 初始形状为 (batch_size, hidden_size)，为下一步连接，需repeat为(seq_len, batch_size, hidden_size)形式 \n",
    "        context = context.repeat(decoder_inputs.shape[0], 1, 1)\n",
    "        output, hidden = self.rnn(torch.cat((decoder_inputs, context), -1), encoder_states)\n",
    "        # logits 的形状为 (seq_len, batch_size, vocab_size)\n",
    "        logits = self.linear(output)\n",
    "        return logits, hidden\n",
    "\n",
    "# seq2seq模型\n",
    "class Seq2Seq(nn.Module):\n",
    " \n",
    "    def __init__(self, encoder, decoder):\n",
    "        super().__init__()\n",
    "        self.encoder = encoder\n",
    "        self.decoder = decoder\n",
    " \n",
    "    def forward(self, encoder_inputs, decoder_inputs):\n",
    "        return self.decoder(decoder_inputs, self.encoder(encoder_inputs))"
   ]
  },
  {
   "cell_type": "code",
   "execution_count": 8,
   "id": "6b9235aa",
   "metadata": {},
   "outputs": [
    {
     "data": {
      "text/plain": [
       "tensor([[ 0.4887, -0.6628, -1.8760, -0.1039, -0.3671, -0.0545,  0.8259,  1.7120,\n",
       "          1.0536,  0.1105, -2.2157,  0.1826, -0.9814,  0.6896,  1.9313, -0.4203,\n",
       "          0.4704, -0.3540, -2.5149,  1.6691,  0.7668, -1.2259, -0.0838, -0.8457,\n",
       "         -0.7388,  0.7919],\n",
       "        ...\n",
       "        [ 1.6062, -0.9316,  0.7249,  0.1260,  1.2153,  0.7596, -1.4848,  0.4740,\n",
       "         -0.1286,  0.7063,  0.9402, -0.0867, -0.2397, -1.2286,  2.3666, -1.9981,\n",
       "          0.4441, -0.3359, -2.6526, -1.9506, -0.4288,  0.7680,  1.0715,  0.0294,\n",
       "         -0.0815, -1.4052]], grad_fn=<EmbeddingBackward0>)"
      ]
     },
     "execution_count": 8,
     "metadata": {},
     "output_type": "execute_result"
    }
   ],
   "source": [
    "ebd = nn.Embedding(26, 26)\n",
    "ebd(train_loader.dataset[0][0])"
   ]
  },
  {
   "cell_type": "code",
   "execution_count": 9,
   "id": "ca11a977",
   "metadata": {},
   "outputs": [
    {
     "name": "stderr",
     "output_type": "stream",
     "text": [
      "100%|██████████| 20/20 [03:35<00:00, 10.79s/it]\n"
     ]
    }
   ],
   "source": [
    "from tqdm import *\n",
    "import matplotlib.pyplot as plt\n",
    "\n",
    "# 设置超参数\n",
    "lr = 0.001\n",
    "num_epochs = 20\n",
    "hidden_size = 128\n",
    "\n",
    "# 建立模型\n",
    "encoder = Encoder(len(src_vocab), len(src_vocab), hidden_size, num_layers=2)\n",
    "decoder = Decoder(len(tgt_vocab), len(tgt_vocab), hidden_size, num_layers=2)\n",
    "model = Seq2Seq(encoder, decoder)\n",
    "\n",
    "# 交叉熵损失及adam优化器\n",
    "criterion = nn.CrossEntropyLoss(reduction='none')\n",
    "optimizer = torch.optim.Adam(model.parameters(), lr=lr)\n",
    "\n",
    "# 记录损失变化\n",
    "loss_history = []\n",
    "\n",
    "#开始训练\n",
    "model.train()\n",
    "for epoch in tqdm(range(num_epochs)):\n",
    "    for encoder_inputs, decoder_targets in train_loader:\n",
    "        encoder_inputs, decoder_targets = encoder_inputs, decoder_targets\n",
    "        # 偏移一位作为decoder的输入\n",
    "        # decoder的输入第一位是<bos>\n",
    "        bos_column = torch.tensor([tgt_vocab['<bos>']] * decoder_targets.shape[0]).reshape(-1, 1)\n",
    "        decoder_inputs = torch.cat((bos_column, decoder_targets[:, :-1]), dim=1)\n",
    "        # pred的形状为 (seq_len, batch_size, vocab_size)\n",
    "        pred, _ = model(encoder_inputs, decoder_inputs)\n",
    "        # decoder_targets 的形状为 (batch_size, seq_len)，我们需要改变pred的形状以保证它能够正确输入\n",
    "        # loss 的形状为 (batch_size, seq_len)，其中的每个元素都代表了一个词元的损失\n",
    "        loss = criterion(pred.permute(1, 2, 0), decoder_targets).mean()\n",
    "\n",
    "        # 反向传播\n",
    "        optimizer.zero_grad()\n",
    "        loss.backward()\n",
    "        optimizer.step()\n",
    "        loss_history.append(loss.item())\n",
    "\n"
   ]
  },
  {
   "cell_type": "code",
   "execution_count": 10,
   "id": "e45b12bd",
   "metadata": {},
   "outputs": [
    {
     "data": {
      "image/png": "[encoded data removed]",
      "text/plain": [
       "<Figure size 432x288 with 1 Axes>"
      ]
     },
     "metadata": {
      "needs_background": "light"
     },
     "output_type": "display_data"
    }
   ],
   "source": [
    "plt.plot(loss_history)\n",
    "plt.ylabel('train loss')\n",
    "plt.show()"
   ]
  },
  {
   "cell_type": "code",
   "execution_count": 11,
   "id": "e60819ad",
   "metadata": {},
   "outputs": [
    {
     "name": "stdout",
     "output_type": "stream",
     "text": [
      "0.507\n"
     ]
    }
   ],
   "source": [
    "model.eval()\n",
    "translation_results = []\n",
    "\n",
    "correct = 0\n",
    "error = 0\n",
    "# 因为batch_size是1，所以每次取出来的都是单个句子\n",
    "for src_seq, tgt_seq in test_loader:\n",
    "    encoder_inputs = src_seq\n",
    "    hidden = model.encoder(encoder_inputs)\n",
    "    pred_seq = [tgt_vocab['<bos>']]\n",
    "    for _ in range(8):\n",
    "        # 一步步输出，decoder的输入的形状为(batch_size, seq_len)=(1,1)\n",
    "        decoder_inputs = torch.tensor(pred_seq[-1]).reshape(1, 1)\n",
    "        # pred形状为 (seq_len, batch_size, vocab_size) = (1, 1, vocab_size)\n",
    "        pred, hidden = model.decoder(decoder_inputs, hidden)\n",
    "        next_token_index = pred.squeeze().argmax().item()\n",
    "        if next_token_index == tgt_vocab['<eos>']:\n",
    "            break\n",
    "        pred_seq.append(next_token_index)\n",
    "    \n",
    "    # 去掉开头的<bos>\n",
    "    pred_seq = tgt_vocab[pred_seq[1:]]\n",
    "    # 因为tgt_seq的形状为(1, seq_len)，我们需要将其转化成(seq_len, )的形状\n",
    "    tgt_seq = tgt_seq.squeeze().tolist()\n",
    "    \n",
    "    # 需要注意在<eos>之前截断\n",
    "    if tgt_vocab['<eos>'] in tgt_seq:\n",
    "        eos_idx = tgt_seq.index(tgt_vocab['<eos>'])\n",
    "        tgt_seq = tgt_vocab[tgt_seq[:eos_idx]]\n",
    "    else:\n",
    "        tgt_seq = tgt_vocab[tgt_seq]\n",
    "    translation_results.append((' '.join(tgt_seq), ' '.join(pred_seq)))\n",
    "    \n",
    "    for i in range(len(tgt_seq)):\n",
    "        if i >= len(pred_seq) or pred_seq[i] != tgt_seq[i]:\n",
    "            error += 1\n",
    "        else:\n",
    "            correct += 1\n",
    "\n",
    "print(correct/(correct+error))"
   ]
  },
  {
   "cell_type": "code",
   "execution_count": 12,
   "id": "f4be7871",
   "metadata": {},
   "outputs": [
    {
     "data": {
      "text/plain": [
       "[('f d i f h h', 'f d i f r h'),\n",
       " ('r g d f x z', 'r m f d s n'),\n",
       " ('c v v r l q', 'c v r a l'),\n",
       " ('q b f n v x', 'q v f n d e'),\n",
       " ('q b x y p y', 'q b x j t b'),\n",
       " ...]"
      ]
     },
     "execution_count": 12,
     "metadata": {},
     "output_type": "execute_result"
    }
   ],
   "source": [
    "translation_results"
   ]
  }
 ],
 "metadata": {
  "kernelspec": {
   "display_name": "Python 3 (ipykernel)",
   "language": "python",
   "name": "python3"
  },
  "language_info": {
   "codemirror_mode": {
    "name": "ipython",
    "version": 3
   },
   "file_extension": ".py",
   "mimetype": "text/x-python",
   "name": "python",
   "nbconvert_exporter": "python",
   "pygments_lexer": "ipython3",
   "version": "3.11.4"
  }
 },
 "nbformat": 4,
 "nbformat_minor": 5
}
